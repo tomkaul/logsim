{
 "cells": [
  {
   "cell_type": "markdown",
   "id": "e374fedf",
   "metadata": {},
   "source": [
    "# Simulation of Common Data Platform\n",
    "## Bronze Analysis - Conversation Tracking example\n",
    "## THKA, SET, August 2021"
   ]
  },
  {
   "cell_type": "code",
   "execution_count": 1,
   "id": "b4a14258",
   "metadata": {},
   "outputs": [],
   "source": [
    "# Import needed libraries\n",
    "%load_ext autoreload\n",
    "%autoreload 2\n",
    "import numpy as np\n",
    "import pandas as pd\n",
    "import seaborn as sns\n",
    "import logsim.datapool as cdp\n",
    "pd.options.mode.chained_assignment = None"
   ]
  },
  {
   "cell_type": "markdown",
   "id": "1da4e6a4",
   "metadata": {},
   "source": [
    "## Fitting SW data"
   ]
  },
  {
   "cell_type": "code",
   "execution_count": 2,
   "id": "aee9e474",
   "metadata": {},
   "outputs": [
    {
     "name": "stdout",
     "output_type": "stream",
     "text": [
      "Shape of BRONZE Fsw Daily data frame is (2220, 15)\n"
     ]
    }
   ],
   "source": [
    "# Reload data\n",
    "bronze = cdp.CDP()\n",
    "bronze.loadAsCSV(ver='03')\n",
    "df = bronze.getFswDaily().df\n",
    "print('Shape of BRONZE Fsw Daily data frame is ' + str(df.shape))"
   ]
  },
  {
   "cell_type": "code",
   "execution_count": 3,
   "id": "14f61952",
   "metadata": {
    "scrolled": false
   },
   "outputs": [
    {
     "name": "stdout",
     "output_type": "stream",
     "text": [
      "Head of BRONZE Fsw Daily data frame\n"
     ]
    },
    {
     "data": {
      "text/html": [
       "<div>\n",
       "<style scoped>\n",
       "    .dataframe tbody tr th:only-of-type {\n",
       "        vertical-align: middle;\n",
       "    }\n",
       "\n",
       "    .dataframe tbody tr th {\n",
       "        vertical-align: top;\n",
       "    }\n",
       "\n",
       "    .dataframe thead th {\n",
       "        text-align: right;\n",
       "    }\n",
       "</style>\n",
       "<table border=\"1\" class=\"dataframe\">\n",
       "  <thead>\n",
       "    <tr style=\"text-align: right;\">\n",
       "      <th></th>\n",
       "      <th>id</th>\n",
       "      <th>power_cycle</th>\n",
       "      <th>charge</th>\n",
       "      <th>usage</th>\n",
       "      <th>ovd</th>\n",
       "      <th>speech</th>\n",
       "      <th>noise</th>\n",
       "      <th>snr-low</th>\n",
       "      <th>snr-med</th>\n",
       "      <th>snr-high</th>\n",
       "      <th>ovd-snr-low</th>\n",
       "      <th>ovd-snr-med</th>\n",
       "      <th>ovd-snr-high</th>\n",
       "      <th>vcUp</th>\n",
       "      <th>vcDwn</th>\n",
       "    </tr>\n",
       "  </thead>\n",
       "  <tbody>\n",
       "    <tr>\n",
       "      <th>0</th>\n",
       "      <td>0</td>\n",
       "      <td>0</td>\n",
       "      <td>26122</td>\n",
       "      <td>31228</td>\n",
       "      <td>2040</td>\n",
       "      <td>6120</td>\n",
       "      <td>4440</td>\n",
       "      <td>3120</td>\n",
       "      <td>6240</td>\n",
       "      <td>21420</td>\n",
       "      <td>480</td>\n",
       "      <td>1440</td>\n",
       "      <td>1440</td>\n",
       "      <td>4</td>\n",
       "      <td>4</td>\n",
       "    </tr>\n",
       "    <tr>\n",
       "      <th>1</th>\n",
       "      <td>0</td>\n",
       "      <td>0</td>\n",
       "      <td>26122</td>\n",
       "      <td>31228</td>\n",
       "      <td>2040</td>\n",
       "      <td>6120</td>\n",
       "      <td>4440</td>\n",
       "      <td>3120</td>\n",
       "      <td>6240</td>\n",
       "      <td>21420</td>\n",
       "      <td>480</td>\n",
       "      <td>1440</td>\n",
       "      <td>1440</td>\n",
       "      <td>4</td>\n",
       "      <td>4</td>\n",
       "    </tr>\n",
       "    <tr>\n",
       "      <th>2</th>\n",
       "      <td>0</td>\n",
       "      <td>1</td>\n",
       "      <td>90427</td>\n",
       "      <td>53517</td>\n",
       "      <td>3480</td>\n",
       "      <td>10440</td>\n",
       "      <td>7620</td>\n",
       "      <td>5340</td>\n",
       "      <td>10680</td>\n",
       "      <td>37380</td>\n",
       "      <td>840</td>\n",
       "      <td>2520</td>\n",
       "      <td>2520</td>\n",
       "      <td>7</td>\n",
       "      <td>7</td>\n",
       "    </tr>\n",
       "    <tr>\n",
       "      <th>3</th>\n",
       "      <td>0</td>\n",
       "      <td>2</td>\n",
       "      <td>146068</td>\n",
       "      <td>84557</td>\n",
       "      <td>5640</td>\n",
       "      <td>16560</td>\n",
       "      <td>12000</td>\n",
       "      <td>8460</td>\n",
       "      <td>16920</td>\n",
       "      <td>58800</td>\n",
       "      <td>1380</td>\n",
       "      <td>4140</td>\n",
       "      <td>4140</td>\n",
       "      <td>11</td>\n",
       "      <td>11</td>\n",
       "    </tr>\n",
       "    <tr>\n",
       "      <th>4</th>\n",
       "      <td>0</td>\n",
       "      <td>3</td>\n",
       "      <td>200438</td>\n",
       "      <td>116452</td>\n",
       "      <td>7680</td>\n",
       "      <td>23040</td>\n",
       "      <td>16620</td>\n",
       "      <td>11700</td>\n",
       "      <td>23280</td>\n",
       "      <td>81480</td>\n",
       "      <td>1920</td>\n",
       "      <td>5580</td>\n",
       "      <td>5580</td>\n",
       "      <td>15</td>\n",
       "      <td>15</td>\n",
       "    </tr>\n",
       "  </tbody>\n",
       "</table>\n",
       "</div>"
      ],
      "text/plain": [
       "   id  power_cycle  charge   usage   ovd  speech  noise  snr-low  snr-med  \\\n",
       "0   0            0   26122   31228  2040    6120   4440     3120     6240   \n",
       "1   0            0   26122   31228  2040    6120   4440     3120     6240   \n",
       "2   0            1   90427   53517  3480   10440   7620     5340    10680   \n",
       "3   0            2  146068   84557  5640   16560  12000     8460    16920   \n",
       "4   0            3  200438  116452  7680   23040  16620    11700    23280   \n",
       "\n",
       "   snr-high  ovd-snr-low  ovd-snr-med  ovd-snr-high  vcUp  vcDwn  \n",
       "0     21420          480         1440          1440     4      4  \n",
       "1     21420          480         1440          1440     4      4  \n",
       "2     37380          840         2520          2520     7      7  \n",
       "3     58800         1380         4140          4140    11     11  \n",
       "4     81480         1920         5580          5580    15     15  "
      ]
     },
     "execution_count": 3,
     "metadata": {},
     "output_type": "execute_result"
    }
   ],
   "source": [
    "print('Head of BRONZE Fsw Daily data frame')\n",
    "df[df['id'] == 0].head()"
   ]
  },
  {
   "cell_type": "code",
   "execution_count": 4,
   "id": "45acf034",
   "metadata": {},
   "outputs": [
    {
     "data": {
      "text/plain": [
       "(200, 15)"
      ]
     },
     "execution_count": 4,
     "metadata": {},
     "output_type": "execute_result"
    }
   ],
   "source": [
    "# Check for duplicates\n",
    "df[df.duplicated(['id', 'power_cycle'])].shape"
   ]
  },
  {
   "cell_type": "code",
   "execution_count": 7,
   "id": "6c749f51",
   "metadata": {},
   "outputs": [
    {
     "data": {
      "text/html": [
       "<div>\n",
       "<style scoped>\n",
       "    .dataframe tbody tr th:only-of-type {\n",
       "        vertical-align: middle;\n",
       "    }\n",
       "\n",
       "    .dataframe tbody tr th {\n",
       "        vertical-align: top;\n",
       "    }\n",
       "\n",
       "    .dataframe thead th {\n",
       "        text-align: right;\n",
       "    }\n",
       "</style>\n",
       "<table border=\"1\" class=\"dataframe\">\n",
       "  <thead>\n",
       "    <tr style=\"text-align: right;\">\n",
       "      <th></th>\n",
       "      <th>id</th>\n",
       "      <th>power_cycle</th>\n",
       "      <th>charge</th>\n",
       "      <th>usage</th>\n",
       "      <th>ovd</th>\n",
       "      <th>speech</th>\n",
       "      <th>noise</th>\n",
       "      <th>snr-low</th>\n",
       "      <th>snr-med</th>\n",
       "      <th>snr-high</th>\n",
       "      <th>ovd-snr-low</th>\n",
       "      <th>ovd-snr-med</th>\n",
       "      <th>ovd-snr-high</th>\n",
       "      <th>vcUp</th>\n",
       "      <th>vcDwn</th>\n",
       "    </tr>\n",
       "  </thead>\n",
       "  <tbody>\n",
       "  </tbody>\n",
       "</table>\n",
       "</div>"
      ],
      "text/plain": [
       "Empty DataFrame\n",
       "Columns: [id, power_cycle, charge, usage, ovd, speech, noise, snr-low, snr-med, snr-high, ovd-snr-low, ovd-snr-med, ovd-snr-high, vcUp, vcDwn]\n",
       "Index: []"
      ]
     },
     "execution_count": 7,
     "metadata": {},
     "output_type": "execute_result"
    }
   ],
   "source": [
    "# Display duplicates\n",
    "df[df.duplicated(['id', 'power_cycle'], keep=False)].sort_values(['id', 'power_cycle']).head(20)"
   ]
  },
  {
   "cell_type": "code",
   "execution_count": 6,
   "id": "99658d64",
   "metadata": {},
   "outputs": [
    {
     "data": {
      "text/plain": [
       "0"
      ]
     },
     "execution_count": 6,
     "metadata": {},
     "output_type": "execute_result"
    }
   ],
   "source": [
    "# Remove any duplicates\n",
    "if df[df.duplicated(['id', 'power_cycle'])].size:\n",
    "    df.drop_duplicates(['id', 'power_cycle'], inplace=True)\n",
    "df[df.duplicated(['id', 'power_cycle'])].size"
   ]
  },
  {
   "cell_type": "code",
   "execution_count": 8,
   "id": "de73cc55",
   "metadata": {},
   "outputs": [
    {
     "data": {
      "text/plain": [
       "id              False\n",
       "power_cycle     False\n",
       "charge          False\n",
       "usage           False\n",
       "ovd             False\n",
       "speech          False\n",
       "noise           False\n",
       "snr-low         False\n",
       "snr-med         False\n",
       "snr-high        False\n",
       "ovd-snr-low     False\n",
       "ovd-snr-med     False\n",
       "ovd-snr-high    False\n",
       "vcUp            False\n",
       "vcDwn           False\n",
       "dtype: bool"
      ]
     },
     "execution_count": 8,
     "metadata": {},
     "output_type": "execute_result"
    }
   ],
   "source": [
    "# Check for NaN\n",
    "df.isnull().any()"
   ]
  },
  {
   "cell_type": "code",
   "execution_count": null,
   "id": "4ff15a20",
   "metadata": {},
   "outputs": [],
   "source": [
    "# Convert to integer\n",
    "df = df.astype(int)"
   ]
  },
  {
   "cell_type": "code",
   "execution_count": 9,
   "id": "789bd450",
   "metadata": {},
   "outputs": [
    {
     "data": {
      "text/html": [
       "<div>\n",
       "<style scoped>\n",
       "    .dataframe tbody tr th:only-of-type {\n",
       "        vertical-align: middle;\n",
       "    }\n",
       "\n",
       "    .dataframe tbody tr th {\n",
       "        vertical-align: top;\n",
       "    }\n",
       "\n",
       "    .dataframe thead th {\n",
       "        text-align: right;\n",
       "    }\n",
       "</style>\n",
       "<table border=\"1\" class=\"dataframe\">\n",
       "  <thead>\n",
       "    <tr style=\"text-align: right;\">\n",
       "      <th></th>\n",
       "      <th>id</th>\n",
       "      <th>power_cycle</th>\n",
       "      <th>charge</th>\n",
       "      <th>usage</th>\n",
       "      <th>ovd</th>\n",
       "      <th>speech</th>\n",
       "      <th>noise</th>\n",
       "      <th>snr-low</th>\n",
       "      <th>snr-med</th>\n",
       "      <th>snr-high</th>\n",
       "      <th>ovd-snr-low</th>\n",
       "      <th>ovd-snr-med</th>\n",
       "      <th>ovd-snr-high</th>\n",
       "      <th>vcUp</th>\n",
       "      <th>vcDwn</th>\n",
       "    </tr>\n",
       "  </thead>\n",
       "  <tbody>\n",
       "    <tr>\n",
       "      <th>0</th>\n",
       "      <td>0</td>\n",
       "      <td>0</td>\n",
       "      <td>26122</td>\n",
       "      <td>31228</td>\n",
       "      <td>2040</td>\n",
       "      <td>6120</td>\n",
       "      <td>4440</td>\n",
       "      <td>3120</td>\n",
       "      <td>6240</td>\n",
       "      <td>21420</td>\n",
       "      <td>480</td>\n",
       "      <td>1440</td>\n",
       "      <td>1440</td>\n",
       "      <td>4</td>\n",
       "      <td>4</td>\n",
       "    </tr>\n",
       "    <tr>\n",
       "      <th>2</th>\n",
       "      <td>0</td>\n",
       "      <td>1</td>\n",
       "      <td>90427</td>\n",
       "      <td>53517</td>\n",
       "      <td>3480</td>\n",
       "      <td>10440</td>\n",
       "      <td>7620</td>\n",
       "      <td>5340</td>\n",
       "      <td>10680</td>\n",
       "      <td>37380</td>\n",
       "      <td>840</td>\n",
       "      <td>2520</td>\n",
       "      <td>2520</td>\n",
       "      <td>7</td>\n",
       "      <td>7</td>\n",
       "    </tr>\n",
       "    <tr>\n",
       "      <th>3</th>\n",
       "      <td>0</td>\n",
       "      <td>2</td>\n",
       "      <td>146068</td>\n",
       "      <td>84557</td>\n",
       "      <td>5640</td>\n",
       "      <td>16560</td>\n",
       "      <td>12000</td>\n",
       "      <td>8460</td>\n",
       "      <td>16920</td>\n",
       "      <td>58800</td>\n",
       "      <td>1380</td>\n",
       "      <td>4140</td>\n",
       "      <td>4140</td>\n",
       "      <td>11</td>\n",
       "      <td>11</td>\n",
       "    </tr>\n",
       "    <tr>\n",
       "      <th>4</th>\n",
       "      <td>0</td>\n",
       "      <td>3</td>\n",
       "      <td>200438</td>\n",
       "      <td>116452</td>\n",
       "      <td>7680</td>\n",
       "      <td>23040</td>\n",
       "      <td>16620</td>\n",
       "      <td>11700</td>\n",
       "      <td>23280</td>\n",
       "      <td>81480</td>\n",
       "      <td>1920</td>\n",
       "      <td>5580</td>\n",
       "      <td>5580</td>\n",
       "      <td>15</td>\n",
       "      <td>15</td>\n",
       "    </tr>\n",
       "    <tr>\n",
       "      <th>5</th>\n",
       "      <td>0</td>\n",
       "      <td>4</td>\n",
       "      <td>258287</td>\n",
       "      <td>144781</td>\n",
       "      <td>9600</td>\n",
       "      <td>28800</td>\n",
       "      <td>20640</td>\n",
       "      <td>14520</td>\n",
       "      <td>29040</td>\n",
       "      <td>101640</td>\n",
       "      <td>2340</td>\n",
       "      <td>7020</td>\n",
       "      <td>7020</td>\n",
       "      <td>19</td>\n",
       "      <td>18</td>\n",
       "    </tr>\n",
       "  </tbody>\n",
       "</table>\n",
       "</div>"
      ],
      "text/plain": [
       "   id  power_cycle  charge   usage   ovd  speech  noise  snr-low  snr-med  \\\n",
       "0   0            0   26122   31228  2040    6120   4440     3120     6240   \n",
       "2   0            1   90427   53517  3480   10440   7620     5340    10680   \n",
       "3   0            2  146068   84557  5640   16560  12000     8460    16920   \n",
       "4   0            3  200438  116452  7680   23040  16620    11700    23280   \n",
       "5   0            4  258287  144781  9600   28800  20640    14520    29040   \n",
       "\n",
       "   snr-high  ovd-snr-low  ovd-snr-med  ovd-snr-high  vcUp  vcDwn  \n",
       "0     21420          480         1440          1440     4      4  \n",
       "2     37380          840         2520          2520     7      7  \n",
       "3     58800         1380         4140          4140    11     11  \n",
       "4     81480         1920         5580          5580    15     15  \n",
       "5    101640         2340         7020          7020    19     18  "
      ]
     },
     "execution_count": 9,
     "metadata": {},
     "output_type": "execute_result"
    }
   ],
   "source": [
    "df.head()"
   ]
  },
  {
   "cell_type": "code",
   "execution_count": null,
   "id": "16c5f028",
   "metadata": {},
   "outputs": [],
   "source": []
  }
 ],
 "metadata": {
  "kernelspec": {
   "display_name": "Python 3 (ipykernel)",
   "language": "python",
   "name": "python3"
  },
  "language_info": {
   "codemirror_mode": {
    "name": "ipython",
    "version": 3
   },
   "file_extension": ".py",
   "mimetype": "text/x-python",
   "name": "python",
   "nbconvert_exporter": "python",
   "pygments_lexer": "ipython3",
   "version": "3.8.10"
  }
 },
 "nbformat": 4,
 "nbformat_minor": 5
}
