{
 "cells": [
  {
   "cell_type": "markdown",
   "id": "e374fedf",
   "metadata": {},
   "source": [
    "# Simulation of Common Data Platform\n",
    "## Bronze Analysis - Conversation Tracking example\n",
    "## THKA, SET, August 2021"
   ]
  },
  {
   "cell_type": "code",
   "execution_count": null,
   "id": "b4a14258",
   "metadata": {},
   "outputs": [],
   "source": [
    "# Import needed libraries\n",
    "%load_ext autoreload\n",
    "%autoreload 2\n",
    "import numpy as np\n",
    "import pandas as pd\n",
    "import seaborn as sns\n",
    "import logsim.datapool as cdp\n",
    "pd.options.mode.chained_assignment = None"
   ]
  },
  {
   "cell_type": "markdown",
   "id": "1da4e6a4",
   "metadata": {},
   "source": [
    "## Fitting SW data"
   ]
  },
  {
   "cell_type": "code",
   "execution_count": null,
   "id": "aee9e474",
   "metadata": {},
   "outputs": [],
   "source": [
    "# Reload data\n",
    "bronze = cdp.CDP()\n",
    "bronze.loadAsCSV(ver='03')\n",
    "df = bronze.getFswDaily().df\n",
    "print('Shape of BRONZE Fsw Daily data frame is ' + str(df.shape))"
   ]
  },
  {
   "cell_type": "code",
   "execution_count": null,
   "id": "14f61952",
   "metadata": {
    "scrolled": false
   },
   "outputs": [],
   "source": [
    "print('Head of BRONZE Fsw Daily data frame')\n",
    "df[df['id'] == 0].head()"
   ]
  },
  {
   "cell_type": "code",
   "execution_count": null,
   "id": "45acf034",
   "metadata": {},
   "outputs": [],
   "source": [
    "# Check for duplicates\n",
    "df[df.duplicated(['id', 'power_cycle'])].shape"
   ]
  },
  {
   "cell_type": "code",
   "execution_count": null,
   "id": "6c749f51",
   "metadata": {},
   "outputs": [],
   "source": [
    "# Display duplicates\n",
    "df[df.duplicated(['id', 'power_cycle'], keep=False)].sort_values(['id', 'power_cycle']).head(20)"
   ]
  },
  {
   "cell_type": "code",
   "execution_count": null,
   "id": "99658d64",
   "metadata": {},
   "outputs": [],
   "source": [
    "# Remove any duplicates\n",
    "if df[df.duplicated(['id', 'power_cycle'])].size:\n",
    "    df.drop_duplicates(['id', 'power_cycle'], inplace=True)\n",
    "df[df.duplicated(['id', 'power_cycle'])].size"
   ]
  },
  {
   "cell_type": "code",
   "execution_count": null,
   "id": "de73cc55",
   "metadata": {},
   "outputs": [],
   "source": [
    "# Check for NaN\n",
    "df.isnull().any()"
   ]
  },
  {
   "cell_type": "code",
   "execution_count": null,
   "id": "caa0b5b7",
   "metadata": {},
   "outputs": [],
   "source": [
    "# Convert to integer\n",
    "df = df.astype(int)"
   ]
  },
  {
   "cell_type": "code",
   "execution_count": null,
   "id": "afa68c52",
   "metadata": {},
   "outputs": [],
   "source": [
    "df.head()"
   ]
  }
 ],
 "metadata": {
  "kernelspec": {
   "display_name": "Python 3 (ipykernel)",
   "language": "python",
   "name": "python3"
  },
  "language_info": {
   "codemirror_mode": {
    "name": "ipython",
    "version": 3
   },
   "file_extension": ".py",
   "mimetype": "text/x-python",
   "name": "python",
   "nbconvert_exporter": "python",
   "pygments_lexer": "ipython3",
   "version": "3.8.10"
  }
 },
 "nbformat": 4,
 "nbformat_minor": 5
}
